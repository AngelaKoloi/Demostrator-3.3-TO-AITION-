{
 "cells": [
  {
   "cell_type": "code",
   "execution_count": 1,
   "metadata": {},
   "outputs": [],
   "source": [
    "import pandas as pd\n",
    "import numpy as np"
   ]
  },
  {
   "cell_type": "code",
   "execution_count": 2,
   "metadata": {},
   "outputs": [
    {
     "name": "stderr",
     "output_type": "stream",
     "text": [
      "C:\\Users\\elizl\\AppData\\Local\\Temp\\ipykernel_13724\\1613290680.py:1: DtypeWarning: Columns (2,3,4,9,10,12,14,22,24,25,26,31,34,35,36,37,38,43,44,45,46,47,48,49,50,51,52,53,54,55,56,57,58,59,60,61,62,63,64,65,66,67,70,72,73,74,76,78,80,292) have mixed types. Specify dtype option on import or set low_memory=False.\n",
      "  idata_BIG = pd.read_csv('data/cleaning data/BIG_merged.csv')\n"
     ]
    }
   ],
   "source": [
    "idata_BIG = pd.read_csv('data/cleaning data/BIG_merged.csv')\n",
    "idata_NMR = pd.read_csv('data/initial data/NMR_metabolic_biomarkers_with_dates.csv')\n",
    "cdata_BIG = pd.read_csv('data/cleaning data/BIG_cleaned.csv')\n",
    "cdata_NMR = pd.read_csv('data/cleaning data/NMR_cleaned.csv')\n",
    "clean_data = pd.read_csv('data/cleaning data/participant_combined.csv')"
   ]
  },
  {
   "cell_type": "markdown",
   "metadata": {},
   "source": [
    "Initial Data Information"
   ]
  },
  {
   "cell_type": "markdown",
   "metadata": {},
   "source": [
    "Missing values per Col"
   ]
  },
  {
   "cell_type": "code",
   "execution_count": 3,
   "metadata": {},
   "outputs": [
    {
     "name": "stdout",
     "output_type": "stream",
     "text": [
      "Missing values in BIG: eid                             0\n",
      "X31.0.0                         0\n",
      "X34.0.0                         0\n",
      "X189.0.0                        0\n",
      "X670.0.0                        0\n",
      "                            ...  \n",
      "AUDIT.Score                     0\n",
      "PCL.Score                       0\n",
      "MH.Questionnaires               0\n",
      "MH.Questionnaires.Short         0\n",
      "X30505.0.0                 462379\n",
      "Length: 293, dtype: int64\n",
      "Missing values in NMR: Unnamed: 0                                           0\n",
      "eid                                                  0\n",
      "Date_of_attending_assessment_centre_Visit1_0         0\n",
      "Date_of_attending_assessment_centre_Visit2_0    482036\n",
      "Date_of_attending_assessment_centre_Visit3_0    441087\n",
      "                                                 ...  \n",
      "Cholesteryl_Esters_in_Small_HDL_Visit2_0        497241\n",
      "Free_Cholesterol_in_Small_HDL_Visit1_0          384370\n",
      "Free_Cholesterol_in_Small_HDL_Visit2_0          497241\n",
      "Triglycerides_in_Small_HDL_Visit1_0             384370\n",
      "Triglycerides_in_Small_HDL_Visit2_0             497241\n",
      "Length: 342, dtype: int64\n",
      "Missing values in cleaned BIG: eid                               0\n",
      "X34.0.0                           3\n",
      "Gender                            0\n",
      "Ethnicity                      3466\n",
      "Migrant.Status                 1784\n",
      "TDI.Tertiles                    626\n",
      "Highest.Qualification         10132\n",
      "House.Ownership               13596\n",
      "Income                         6014\n",
      "Cohabiting                    97285\n",
      "Living.Alone                      0\n",
      "Smoker                          893\n",
      "Moderate.Physical.Activity    27266\n",
      "Longstanding.Illness          13357\n",
      "Diabetes                       2617\n",
      "Cancer                         2776\n",
      "CVD                            2224\n",
      "Depressed.At.Baseline         24171\n",
      "Loneliness                    26259\n",
      "Social.Isolation               9425\n",
      "PHQ9.No.Info                      0\n",
      "PHQ9.Screen                       0\n",
      "PHQ9.Items                        0\n",
      "PHQ9.Severity                     0\n",
      "CIDI.MDD.No.Info                  0\n",
      "CIDI.MDD.Screen                   0\n",
      "CIDI.MDD.Response                 0\n",
      "CIDI.MDD.Severity                 0\n",
      "GAD.CIDI.Somatic                  0\n",
      "AUDIT.Score                       0\n",
      "dtype: int64\n",
      "Missing values in cleaned NMR: eid                                                       0\n",
      "Total_Cholesterol                                      2074\n",
      "Total_Cholesterol_Minus_HDL-C                          1956\n",
      "Remnant_Cholesterol_(Non-HDL,_Non-LDL_-Cholesterol)    1854\n",
      "VLDL_Cholesterol                                       2005\n",
      "                                                       ... \n",
      "Phospholipids_in_Small_HDL                             2427\n",
      "Cholesterol_in_Small_HDL                               2435\n",
      "Cholesteryl_Esters_in_Small_HDL                        2453\n",
      "Free_Cholesterol_in_Small_HDL                          2445\n",
      "Triglycerides_in_Small_HDL                             2419\n",
      "Length: 136, dtype: int64\n",
      "Missing values in cleaned data: eid                                                       0\n",
      "Total_Cholesterol                                      2074\n",
      "Total_Cholesterol_Minus_HDL-C                          1956\n",
      "Remnant_Cholesterol_(Non-HDL,_Non-LDL_-Cholesterol)    1854\n",
      "VLDL_Cholesterol                                       2005\n",
      "                                                       ... \n",
      "CIDI.MDD.Screen                                           0\n",
      "CIDI.MDD.Response                                         0\n",
      "CIDI.MDD.Severity                                         0\n",
      "GAD.CIDI.Somatic                                          0\n",
      "AUDIT.Score                                               0\n",
      "Length: 165, dtype: int64\n"
     ]
    }
   ],
   "source": [
    "missing_values_BIG = idata_BIG.isnull().sum()\n",
    "print(\"Missing values in BIG:\", missing_values_BIG)\n",
    "\n",
    "missing_values_NMR = idata_NMR.isnull().sum()\n",
    "print(\"Missing values in NMR:\", missing_values_NMR)\n",
    "\n",
    "missing_values_clean_BIG = cdata_BIG.isnull().sum()\n",
    "print(\"Missing values in cleaned BIG:\", missing_values_clean_BIG)\n",
    "\n",
    "missing_values_clean_NMR = cdata_NMR.isnull().sum()\n",
    "print(\"Missing values in cleaned NMR:\", missing_values_clean_NMR)\n",
    "\n",
    "missing_values_clean_data = clean_data.isnull().sum()\n",
    "print(\"Missing values in cleaned data:\", missing_values_clean_data)"
   ]
  },
  {
   "cell_type": "markdown",
   "metadata": {},
   "source": [
    "Missing values total"
   ]
  },
  {
   "cell_type": "code",
   "execution_count": 4,
   "metadata": {},
   "outputs": [
    {
     "name": "stdout",
     "output_type": "stream",
     "text": [
      "Total missing values in BIG: 1619110\n",
      "Total missing values in NMR: 149540865\n",
      "Total missing values in Cleaned BIG: 241894\n",
      "Total missing values in Cleaned NMR: 320073\n",
      "Total missing values in Clean data: 561967\n"
     ]
    }
   ],
   "source": [
    "total_missing_BIG = idata_BIG.isnull().sum().sum()\n",
    "print(\"Total missing values in BIG:\", total_missing_BIG)\n",
    "\n",
    "total_missing_NMR = idata_NMR.isnull().sum().sum()\n",
    "print(\"Total missing values in NMR:\", total_missing_NMR)\n",
    "\n",
    "total_missing_clean_BIG = cdata_BIG.isnull().sum().sum()\n",
    "print(\"Total missing values in Cleaned BIG:\", total_missing_clean_BIG)\n",
    "\n",
    "total_missing_clean_NMR = cdata_NMR.isnull().sum().sum()\n",
    "print(\"Total missing values in Cleaned NMR:\", total_missing_clean_NMR)\n",
    "\n",
    "total_missing_clean = clean_data.isnull().sum().sum()\n",
    "print(\"Total missing values in Clean data:\", total_missing_clean)"
   ]
  },
  {
   "cell_type": "markdown",
   "metadata": {},
   "source": [
    "Total Values"
   ]
  },
  {
   "cell_type": "code",
   "execution_count": 5,
   "metadata": {},
   "outputs": [
    {
     "name": "stdout",
     "output_type": "stream",
     "text": [
      "Total values in BIG: 147197047\n",
      "Total values in NMR: 171813618\n",
      "Total values in Cleaned BIG: 15071370\n",
      "Total values in Cleaned NMR: 68323544\n",
      "Total values in Clean data: 82892535\n"
     ]
    }
   ],
   "source": [
    "print(\"Total values in BIG:\", idata_BIG.size)\n",
    "print(\"Total values in NMR:\", idata_NMR.size)\n",
    "print(\"Total values in Cleaned BIG:\", cdata_BIG.size)\n",
    "print(\"Total values in Cleaned NMR:\", cdata_NMR.size)\n",
    "print(\"Total values in Clean data:\", clean_data.size)"
   ]
  },
  {
   "cell_type": "markdown",
   "metadata": {},
   "source": [
    "Columns & Rows"
   ]
  },
  {
   "cell_type": "code",
   "execution_count": 6,
   "metadata": {},
   "outputs": [
    {
     "name": "stdout",
     "output_type": "stream",
     "text": [
      "Number of (Rows, Columns) in BIG: (502379, 293)\n",
      "Number of (Rows, Columns) in NMR: (502379, 342)\n",
      "Number of (Rows, Columns) in cleaned BIG: (502379, 30)\n",
      "Number of (Rows, Columns) in cleaned NMR: (502379, 136)\n",
      "Number of (Rows, Columns) in cleaned data: (502379, 165)\n"
     ]
    }
   ],
   "source": [
    "print(\"Number of (Rows, Columns) in BIG:\", idata_BIG.shape)\n",
    "print(\"Number of (Rows, Columns) in NMR:\", idata_NMR.shape)\n",
    "print(\"Number of (Rows, Columns) in cleaned BIG:\", cdata_BIG.shape)\n",
    "print(\"Number of (Rows, Columns) in cleaned NMR:\", cdata_NMR.shape)\n",
    "print(\"Number of (Rows, Columns) in cleaned data:\", clean_data.shape)"
   ]
  },
  {
   "cell_type": "code",
   "execution_count": null,
   "metadata": {},
   "outputs": [],
   "source": []
  }
 ],
 "metadata": {
  "kernelspec": {
   "display_name": "Python 3",
   "language": "python",
   "name": "python3"
  },
  "language_info": {
   "codemirror_mode": {
    "name": "ipython",
    "version": 3
   },
   "file_extension": ".py",
   "mimetype": "text/x-python",
   "name": "python",
   "nbconvert_exporter": "python",
   "pygments_lexer": "ipython3",
   "version": "3.10.11"
  }
 },
 "nbformat": 4,
 "nbformat_minor": 2
}
